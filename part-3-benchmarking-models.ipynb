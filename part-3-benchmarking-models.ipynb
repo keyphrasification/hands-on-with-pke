{
 "cells": [
  {
   "cell_type": "code",
   "execution_count": 1,
   "id": "18f6b4b8",
   "metadata": {
    "collapsed": true
   },
   "outputs": [
    {
     "name": "stdout",
     "output_type": "stream",
     "text": [
      "Collecting git+https://github.com/boudinfl/pke.git@v2.0 (from -r https://github.com/keyphrasification/hands-on-with-pke/raw/main/requirements.txt (line 2))\n",
      "  Cloning https://github.com/boudinfl/pke.git (to revision v2.0) to /private/var/folders/_s/dsym612j14gggkqchsd35clh0000gn/T/pip-req-build-40ise0po\n",
      "  Running command git clone --filter=blob:none --quiet https://github.com/boudinfl/pke.git /private/var/folders/_s/dsym612j14gggkqchsd35clh0000gn/T/pip-req-build-40ise0po\n",
      "  Running command git checkout -b v2.0 --track origin/v2.0\n",
      "  Switched to a new branch 'v2.0'\n",
      "  Branch 'v2.0' set up to track remote branch 'v2.0' from 'origin'.\n",
      "  Resolved https://github.com/boudinfl/pke.git to commit d41dee75ec15288b69e36a93d0cb57b43650cace\n",
      "  Preparing metadata (setup.py) ... \u001b[?25ldone\n",
      "\u001b[?25hCollecting en_core_web_sm\n",
      "  Using cached en_core_web_sm-3.2.0-py3-none-any.whl\n",
      "Requirement already satisfied: notebook in ./venv/lib/python3.10/site-packages (from -r https://github.com/keyphrasification/hands-on-with-pke/raw/main/requirements.txt (line 1)) (6.4.8)\n",
      "Requirement already satisfied: datasets in ./venv/lib/python3.10/site-packages (from -r https://github.com/keyphrasification/hands-on-with-pke/raw/main/requirements.txt (line 3)) (1.18.3)\n",
      "Requirement already satisfied: ipywidgets in ./venv/lib/python3.10/site-packages (from -r https://github.com/keyphrasification/hands-on-with-pke/raw/main/requirements.txt (line 4)) (7.6.5)\n",
      "Requirement already satisfied: matplotlib in ./venv/lib/python3.10/site-packages (from -r https://github.com/keyphrasification/hands-on-with-pke/raw/main/requirements.txt (line 5)) (3.5.1)\n",
      "Requirement already satisfied: spacy<4.0.0,>=3.0.0 in ./venv/lib/python3.10/site-packages (from -r https://github.com/keyphrasification/hands-on-with-pke/raw/main/requirements.txt (line 6)) (3.2.3)\n",
      "Requirement already satisfied: Send2Trash>=1.8.0 in ./venv/lib/python3.10/site-packages (from notebook->-r https://github.com/keyphrasification/hands-on-with-pke/raw/main/requirements.txt (line 1)) (1.8.0)\n",
      "Requirement already satisfied: pyzmq>=17 in ./venv/lib/python3.10/site-packages (from notebook->-r https://github.com/keyphrasification/hands-on-with-pke/raw/main/requirements.txt (line 1)) (22.3.0)\n",
      "Requirement already satisfied: terminado>=0.8.3 in ./venv/lib/python3.10/site-packages (from notebook->-r https://github.com/keyphrasification/hands-on-with-pke/raw/main/requirements.txt (line 1)) (0.13.2)\n",
      "Requirement already satisfied: jinja2 in ./venv/lib/python3.10/site-packages (from notebook->-r https://github.com/keyphrasification/hands-on-with-pke/raw/main/requirements.txt (line 1)) (3.0.3)\n",
      "Requirement already satisfied: ipykernel in ./venv/lib/python3.10/site-packages (from notebook->-r https://github.com/keyphrasification/hands-on-with-pke/raw/main/requirements.txt (line 1)) (6.9.1)\n",
      "Requirement already satisfied: nbconvert in ./venv/lib/python3.10/site-packages (from notebook->-r https://github.com/keyphrasification/hands-on-with-pke/raw/main/requirements.txt (line 1)) (6.4.2)\n",
      "Requirement already satisfied: nbformat in ./venv/lib/python3.10/site-packages (from notebook->-r https://github.com/keyphrasification/hands-on-with-pke/raw/main/requirements.txt (line 1)) (5.1.3)\n",
      "Requirement already satisfied: jupyter-client>=5.3.4 in ./venv/lib/python3.10/site-packages (from notebook->-r https://github.com/keyphrasification/hands-on-with-pke/raw/main/requirements.txt (line 1)) (7.1.2)\n",
      "Requirement already satisfied: prometheus-client in ./venv/lib/python3.10/site-packages (from notebook->-r https://github.com/keyphrasification/hands-on-with-pke/raw/main/requirements.txt (line 1)) (0.13.1)\n",
      "Requirement already satisfied: jupyter-core>=4.6.1 in ./venv/lib/python3.10/site-packages (from notebook->-r https://github.com/keyphrasification/hands-on-with-pke/raw/main/requirements.txt (line 1)) (4.9.2)\n",
      "Requirement already satisfied: argon2-cffi in ./venv/lib/python3.10/site-packages (from notebook->-r https://github.com/keyphrasification/hands-on-with-pke/raw/main/requirements.txt (line 1)) (21.3.0)\n",
      "Requirement already satisfied: traitlets>=4.2.1 in ./venv/lib/python3.10/site-packages (from notebook->-r https://github.com/keyphrasification/hands-on-with-pke/raw/main/requirements.txt (line 1)) (5.1.1)\n",
      "Requirement already satisfied: tornado>=6.1 in ./venv/lib/python3.10/site-packages (from notebook->-r https://github.com/keyphrasification/hands-on-with-pke/raw/main/requirements.txt (line 1)) (6.1)\n",
      "Requirement already satisfied: ipython-genutils in ./venv/lib/python3.10/site-packages (from notebook->-r https://github.com/keyphrasification/hands-on-with-pke/raw/main/requirements.txt (line 1)) (0.2.0)\n",
      "Requirement already satisfied: nest-asyncio>=1.5 in ./venv/lib/python3.10/site-packages (from notebook->-r https://github.com/keyphrasification/hands-on-with-pke/raw/main/requirements.txt (line 1)) (1.5.4)\n",
      "Requirement already satisfied: nltk in ./venv/lib/python3.10/site-packages (from pke==2.0.0->-r https://github.com/keyphrasification/hands-on-with-pke/raw/main/requirements.txt (line 2)) (3.7)\n",
      "Requirement already satisfied: networkx in ./venv/lib/python3.10/site-packages (from pke==2.0.0->-r https://github.com/keyphrasification/hands-on-with-pke/raw/main/requirements.txt (line 2)) (2.7)\n",
      "Requirement already satisfied: numpy in ./venv/lib/python3.10/site-packages (from pke==2.0.0->-r https://github.com/keyphrasification/hands-on-with-pke/raw/main/requirements.txt (line 2)) (1.22.2)\n",
      "Requirement already satisfied: scipy in ./venv/lib/python3.10/site-packages (from pke==2.0.0->-r https://github.com/keyphrasification/hands-on-with-pke/raw/main/requirements.txt (line 2)) (1.8.0)\n",
      "Requirement already satisfied: sklearn in ./venv/lib/python3.10/site-packages (from pke==2.0.0->-r https://github.com/keyphrasification/hands-on-with-pke/raw/main/requirements.txt (line 2)) (0.0)\n",
      "Requirement already satisfied: unidecode in ./venv/lib/python3.10/site-packages (from pke==2.0.0->-r https://github.com/keyphrasification/hands-on-with-pke/raw/main/requirements.txt (line 2)) (1.3.3)\n",
      "Requirement already satisfied: future in ./venv/lib/python3.10/site-packages (from pke==2.0.0->-r https://github.com/keyphrasification/hands-on-with-pke/raw/main/requirements.txt (line 2)) (0.18.2)\n",
      "Requirement already satisfied: joblib in ./venv/lib/python3.10/site-packages (from pke==2.0.0->-r https://github.com/keyphrasification/hands-on-with-pke/raw/main/requirements.txt (line 2)) (1.1.0)\n",
      "Requirement already satisfied: multiprocess in ./venv/lib/python3.10/site-packages (from datasets->-r https://github.com/keyphrasification/hands-on-with-pke/raw/main/requirements.txt (line 3)) (0.70.12.2)\n",
      "Requirement already satisfied: pandas in ./venv/lib/python3.10/site-packages (from datasets->-r https://github.com/keyphrasification/hands-on-with-pke/raw/main/requirements.txt (line 3)) (1.4.1)\n",
      "Requirement already satisfied: aiohttp in ./venv/lib/python3.10/site-packages (from datasets->-r https://github.com/keyphrasification/hands-on-with-pke/raw/main/requirements.txt (line 3)) (3.8.1)\n",
      "Requirement already satisfied: tqdm>=4.62.1 in ./venv/lib/python3.10/site-packages (from datasets->-r https://github.com/keyphrasification/hands-on-with-pke/raw/main/requirements.txt (line 3)) (4.63.0)\n",
      "Requirement already satisfied: huggingface-hub<1.0.0,>=0.1.0 in ./venv/lib/python3.10/site-packages (from datasets->-r https://github.com/keyphrasification/hands-on-with-pke/raw/main/requirements.txt (line 3)) (0.4.0)\n",
      "Requirement already satisfied: dill in ./venv/lib/python3.10/site-packages (from datasets->-r https://github.com/keyphrasification/hands-on-with-pke/raw/main/requirements.txt (line 3)) (0.3.4)\n",
      "Requirement already satisfied: requests>=2.19.0 in ./venv/lib/python3.10/site-packages (from datasets->-r https://github.com/keyphrasification/hands-on-with-pke/raw/main/requirements.txt (line 3)) (2.27.1)\n",
      "Requirement already satisfied: packaging in ./venv/lib/python3.10/site-packages (from datasets->-r https://github.com/keyphrasification/hands-on-with-pke/raw/main/requirements.txt (line 3)) (21.3)\n",
      "Requirement already satisfied: pyarrow!=4.0.0,>=3.0.0 in ./venv/lib/python3.10/site-packages (from datasets->-r https://github.com/keyphrasification/hands-on-with-pke/raw/main/requirements.txt (line 3)) (7.0.0)\n",
      "Requirement already satisfied: xxhash in ./venv/lib/python3.10/site-packages (from datasets->-r https://github.com/keyphrasification/hands-on-with-pke/raw/main/requirements.txt (line 3)) (3.0.0)\n",
      "Requirement already satisfied: fsspec[http]>=2021.05.0 in ./venv/lib/python3.10/site-packages (from datasets->-r https://github.com/keyphrasification/hands-on-with-pke/raw/main/requirements.txt (line 3)) (2022.2.0)\n"
     ]
    },
    {
     "name": "stdout",
     "output_type": "stream",
     "text": [
      "Requirement already satisfied: jupyterlab-widgets>=1.0.0 in ./venv/lib/python3.10/site-packages (from ipywidgets->-r https://github.com/keyphrasification/hands-on-with-pke/raw/main/requirements.txt (line 4)) (1.0.2)\n",
      "Requirement already satisfied: ipython>=4.0.0 in ./venv/lib/python3.10/site-packages (from ipywidgets->-r https://github.com/keyphrasification/hands-on-with-pke/raw/main/requirements.txt (line 4)) (8.1.1)\n",
      "Requirement already satisfied: widgetsnbextension~=3.5.0 in ./venv/lib/python3.10/site-packages (from ipywidgets->-r https://github.com/keyphrasification/hands-on-with-pke/raw/main/requirements.txt (line 4)) (3.5.2)\n",
      "Requirement already satisfied: fonttools>=4.22.0 in ./venv/lib/python3.10/site-packages (from matplotlib->-r https://github.com/keyphrasification/hands-on-with-pke/raw/main/requirements.txt (line 5)) (4.29.1)\n",
      "Requirement already satisfied: pillow>=6.2.0 in ./venv/lib/python3.10/site-packages (from matplotlib->-r https://github.com/keyphrasification/hands-on-with-pke/raw/main/requirements.txt (line 5)) (9.0.1)\n",
      "Requirement already satisfied: pyparsing>=2.2.1 in ./venv/lib/python3.10/site-packages (from matplotlib->-r https://github.com/keyphrasification/hands-on-with-pke/raw/main/requirements.txt (line 5)) (3.0.7)\n",
      "Requirement already satisfied: cycler>=0.10 in ./venv/lib/python3.10/site-packages (from matplotlib->-r https://github.com/keyphrasification/hands-on-with-pke/raw/main/requirements.txt (line 5)) (0.11.0)\n",
      "Requirement already satisfied: python-dateutil>=2.7 in ./venv/lib/python3.10/site-packages (from matplotlib->-r https://github.com/keyphrasification/hands-on-with-pke/raw/main/requirements.txt (line 5)) (2.8.2)\n",
      "Requirement already satisfied: kiwisolver>=1.0.1 in ./venv/lib/python3.10/site-packages (from matplotlib->-r https://github.com/keyphrasification/hands-on-with-pke/raw/main/requirements.txt (line 5)) (1.3.2)\n",
      "Requirement already satisfied: cymem<2.1.0,>=2.0.2 in ./venv/lib/python3.10/site-packages (from spacy<4.0.0,>=3.0.0->-r https://github.com/keyphrasification/hands-on-with-pke/raw/main/requirements.txt (line 6)) (2.0.6)\n",
      "Requirement already satisfied: preshed<3.1.0,>=3.0.2 in ./venv/lib/python3.10/site-packages (from spacy<4.0.0,>=3.0.0->-r https://github.com/keyphrasification/hands-on-with-pke/raw/main/requirements.txt (line 6)) (3.0.6)\n",
      "Requirement already satisfied: pathy>=0.3.5 in ./venv/lib/python3.10/site-packages (from spacy<4.0.0,>=3.0.0->-r https://github.com/keyphrasification/hands-on-with-pke/raw/main/requirements.txt (line 6)) (0.6.1)\n",
      "Requirement already satisfied: setuptools in ./venv/lib/python3.10/site-packages (from spacy<4.0.0,>=3.0.0->-r https://github.com/keyphrasification/hands-on-with-pke/raw/main/requirements.txt (line 6)) (60.9.3)\n",
      "Requirement already satisfied: blis<0.8.0,>=0.4.0 in ./venv/lib/python3.10/site-packages (from spacy<4.0.0,>=3.0.0->-r https://github.com/keyphrasification/hands-on-with-pke/raw/main/requirements.txt (line 6)) (0.7.6)\n",
      "Requirement already satisfied: pydantic!=1.8,!=1.8.1,<1.9.0,>=1.7.4 in ./venv/lib/python3.10/site-packages (from spacy<4.0.0,>=3.0.0->-r https://github.com/keyphrasification/hands-on-with-pke/raw/main/requirements.txt (line 6)) (1.8.2)\n",
      "Requirement already satisfied: srsly<3.0.0,>=2.4.1 in ./venv/lib/python3.10/site-packages (from spacy<4.0.0,>=3.0.0->-r https://github.com/keyphrasification/hands-on-with-pke/raw/main/requirements.txt (line 6)) (2.4.2)\n",
      "Requirement already satisfied: thinc<8.1.0,>=8.0.12 in ./venv/lib/python3.10/site-packages (from spacy<4.0.0,>=3.0.0->-r https://github.com/keyphrasification/hands-on-with-pke/raw/main/requirements.txt (line 6)) (8.0.13)\n",
      "Requirement already satisfied: spacy-legacy<3.1.0,>=3.0.8 in ./venv/lib/python3.10/site-packages (from spacy<4.0.0,>=3.0.0->-r https://github.com/keyphrasification/hands-on-with-pke/raw/main/requirements.txt (line 6)) (3.0.9)\n",
      "Requirement already satisfied: langcodes<4.0.0,>=3.2.0 in ./venv/lib/python3.10/site-packages (from spacy<4.0.0,>=3.0.0->-r https://github.com/keyphrasification/hands-on-with-pke/raw/main/requirements.txt (line 6)) (3.3.0)\n",
      "Requirement already satisfied: murmurhash<1.1.0,>=0.28.0 in ./venv/lib/python3.10/site-packages (from spacy<4.0.0,>=3.0.0->-r https://github.com/keyphrasification/hands-on-with-pke/raw/main/requirements.txt (line 6)) (1.0.6)\n",
      "Requirement already satisfied: typer<0.5.0,>=0.3.0 in ./venv/lib/python3.10/site-packages (from spacy<4.0.0,>=3.0.0->-r https://github.com/keyphrasification/hands-on-with-pke/raw/main/requirements.txt (line 6)) (0.4.0)\n",
      "Requirement already satisfied: catalogue<2.1.0,>=2.0.6 in ./venv/lib/python3.10/site-packages (from spacy<4.0.0,>=3.0.0->-r https://github.com/keyphrasification/hands-on-with-pke/raw/main/requirements.txt (line 6)) (2.0.6)\n",
      "Requirement already satisfied: spacy-loggers<2.0.0,>=1.0.0 in ./venv/lib/python3.10/site-packages (from spacy<4.0.0,>=3.0.0->-r https://github.com/keyphrasification/hands-on-with-pke/raw/main/requirements.txt (line 6)) (1.0.1)\n",
      "Requirement already satisfied: wasabi<1.1.0,>=0.8.1 in ./venv/lib/python3.10/site-packages (from spacy<4.0.0,>=3.0.0->-r https://github.com/keyphrasification/hands-on-with-pke/raw/main/requirements.txt (line 6)) (0.9.0)\n",
      "Requirement already satisfied: pyyaml in ./venv/lib/python3.10/site-packages (from huggingface-hub<1.0.0,>=0.1.0->datasets->-r https://github.com/keyphrasification/hands-on-with-pke/raw/main/requirements.txt (line 3)) (6.0)\n",
      "Requirement already satisfied: typing-extensions>=3.7.4.3 in ./venv/lib/python3.10/site-packages (from huggingface-hub<1.0.0,>=0.1.0->datasets->-r https://github.com/keyphrasification/hands-on-with-pke/raw/main/requirements.txt (line 3)) (4.1.1)\n",
      "Requirement already satisfied: filelock in ./venv/lib/python3.10/site-packages (from huggingface-hub<1.0.0,>=0.1.0->datasets->-r https://github.com/keyphrasification/hands-on-with-pke/raw/main/requirements.txt (line 3)) (3.6.0)\n",
      "Requirement already satisfied: debugpy<2.0,>=1.0.0 in ./venv/lib/python3.10/site-packages (from ipykernel->notebook->-r https://github.com/keyphrasification/hands-on-with-pke/raw/main/requirements.txt (line 1)) (1.5.1)\n",
      "Requirement already satisfied: matplotlib-inline<0.2.0,>=0.1.0 in ./venv/lib/python3.10/site-packages (from ipykernel->notebook->-r https://github.com/keyphrasification/hands-on-with-pke/raw/main/requirements.txt (line 1)) (0.1.3)\n",
      "Requirement already satisfied: appnope in ./venv/lib/python3.10/site-packages (from ipykernel->notebook->-r https://github.com/keyphrasification/hands-on-with-pke/raw/main/requirements.txt (line 1)) (0.1.2)\n",
      "Requirement already satisfied: pexpect>4.3 in ./venv/lib/python3.10/site-packages (from ipython>=4.0.0->ipywidgets->-r https://github.com/keyphrasification/hands-on-with-pke/raw/main/requirements.txt (line 4)) (4.8.0)\n",
      "Requirement already satisfied: decorator in ./venv/lib/python3.10/site-packages (from ipython>=4.0.0->ipywidgets->-r https://github.com/keyphrasification/hands-on-with-pke/raw/main/requirements.txt (line 4)) (5.1.1)\n",
      "Requirement already satisfied: pickleshare in ./venv/lib/python3.10/site-packages (from ipython>=4.0.0->ipywidgets->-r https://github.com/keyphrasification/hands-on-with-pke/raw/main/requirements.txt (line 4)) (0.7.5)\n",
      "Requirement already satisfied: prompt-toolkit!=3.0.0,!=3.0.1,<3.1.0,>=2.0.0 in ./venv/lib/python3.10/site-packages (from ipython>=4.0.0->ipywidgets->-r https://github.com/keyphrasification/hands-on-with-pke/raw/main/requirements.txt (line 4)) (3.0.28)\n",
      "Requirement already satisfied: jedi>=0.16 in ./venv/lib/python3.10/site-packages (from ipython>=4.0.0->ipywidgets->-r https://github.com/keyphrasification/hands-on-with-pke/raw/main/requirements.txt (line 4)) (0.18.1)\n",
      "Requirement already satisfied: stack-data in ./venv/lib/python3.10/site-packages (from ipython>=4.0.0->ipywidgets->-r https://github.com/keyphrasification/hands-on-with-pke/raw/main/requirements.txt (line 4)) (0.2.0)\n",
      "Requirement already satisfied: pygments>=2.4.0 in ./venv/lib/python3.10/site-packages (from ipython>=4.0.0->ipywidgets->-r https://github.com/keyphrasification/hands-on-with-pke/raw/main/requirements.txt (line 4)) (2.11.2)\n",
      "Requirement already satisfied: backcall in ./venv/lib/python3.10/site-packages (from ipython>=4.0.0->ipywidgets->-r https://github.com/keyphrasification/hands-on-with-pke/raw/main/requirements.txt (line 4)) (0.2.0)\n",
      "Requirement already satisfied: entrypoints in ./venv/lib/python3.10/site-packages (from jupyter-client>=5.3.4->notebook->-r https://github.com/keyphrasification/hands-on-with-pke/raw/main/requirements.txt (line 1)) (0.4)\n"
     ]
    },
    {
     "name": "stdout",
     "output_type": "stream",
     "text": [
      "Requirement already satisfied: jsonschema!=2.5.0,>=2.4 in ./venv/lib/python3.10/site-packages (from nbformat->notebook->-r https://github.com/keyphrasification/hands-on-with-pke/raw/main/requirements.txt (line 1)) (4.4.0)\n",
      "Requirement already satisfied: smart-open<6.0.0,>=5.0.0 in ./venv/lib/python3.10/site-packages (from pathy>=0.3.5->spacy<4.0.0,>=3.0.0->-r https://github.com/keyphrasification/hands-on-with-pke/raw/main/requirements.txt (line 6)) (5.2.1)\n",
      "Requirement already satisfied: six>=1.5 in ./venv/lib/python3.10/site-packages (from python-dateutil>=2.7->matplotlib->-r https://github.com/keyphrasification/hands-on-with-pke/raw/main/requirements.txt (line 5)) (1.16.0)\n",
      "Requirement already satisfied: idna<4,>=2.5 in ./venv/lib/python3.10/site-packages (from requests>=2.19.0->datasets->-r https://github.com/keyphrasification/hands-on-with-pke/raw/main/requirements.txt (line 3)) (3.3)\n",
      "Requirement already satisfied: charset-normalizer~=2.0.0 in ./venv/lib/python3.10/site-packages (from requests>=2.19.0->datasets->-r https://github.com/keyphrasification/hands-on-with-pke/raw/main/requirements.txt (line 3)) (2.0.12)\n",
      "Requirement already satisfied: certifi>=2017.4.17 in ./venv/lib/python3.10/site-packages (from requests>=2.19.0->datasets->-r https://github.com/keyphrasification/hands-on-with-pke/raw/main/requirements.txt (line 3)) (2021.10.8)\n",
      "Requirement already satisfied: urllib3<1.27,>=1.21.1 in ./venv/lib/python3.10/site-packages (from requests>=2.19.0->datasets->-r https://github.com/keyphrasification/hands-on-with-pke/raw/main/requirements.txt (line 3)) (1.26.8)\n",
      "Requirement already satisfied: ptyprocess in ./venv/lib/python3.10/site-packages (from terminado>=0.8.3->notebook->-r https://github.com/keyphrasification/hands-on-with-pke/raw/main/requirements.txt (line 1)) (0.7.0)\n",
      "Requirement already satisfied: click<9.0.0,>=7.1.1 in ./venv/lib/python3.10/site-packages (from typer<0.5.0,>=0.3.0->spacy<4.0.0,>=3.0.0->-r https://github.com/keyphrasification/hands-on-with-pke/raw/main/requirements.txt (line 6)) (8.0.4)\n",
      "Requirement already satisfied: frozenlist>=1.1.1 in ./venv/lib/python3.10/site-packages (from aiohttp->datasets->-r https://github.com/keyphrasification/hands-on-with-pke/raw/main/requirements.txt (line 3)) (1.3.0)\n",
      "Requirement already satisfied: yarl<2.0,>=1.0 in ./venv/lib/python3.10/site-packages (from aiohttp->datasets->-r https://github.com/keyphrasification/hands-on-with-pke/raw/main/requirements.txt (line 3)) (1.7.2)\n",
      "Requirement already satisfied: async-timeout<5.0,>=4.0.0a3 in ./venv/lib/python3.10/site-packages (from aiohttp->datasets->-r https://github.com/keyphrasification/hands-on-with-pke/raw/main/requirements.txt (line 3)) (4.0.2)\n",
      "Requirement already satisfied: aiosignal>=1.1.2 in ./venv/lib/python3.10/site-packages (from aiohttp->datasets->-r https://github.com/keyphrasification/hands-on-with-pke/raw/main/requirements.txt (line 3)) (1.2.0)\n",
      "Requirement already satisfied: multidict<7.0,>=4.5 in ./venv/lib/python3.10/site-packages (from aiohttp->datasets->-r https://github.com/keyphrasification/hands-on-with-pke/raw/main/requirements.txt (line 3)) (6.0.2)\n",
      "Requirement already satisfied: attrs>=17.3.0 in ./venv/lib/python3.10/site-packages (from aiohttp->datasets->-r https://github.com/keyphrasification/hands-on-with-pke/raw/main/requirements.txt (line 3)) (21.4.0)\n",
      "Requirement already satisfied: argon2-cffi-bindings in ./venv/lib/python3.10/site-packages (from argon2-cffi->notebook->-r https://github.com/keyphrasification/hands-on-with-pke/raw/main/requirements.txt (line 1)) (21.2.0)\n",
      "Requirement already satisfied: MarkupSafe>=2.0 in ./venv/lib/python3.10/site-packages (from jinja2->notebook->-r https://github.com/keyphrasification/hands-on-with-pke/raw/main/requirements.txt (line 1)) (2.1.0)\n",
      "Requirement already satisfied: mistune<2,>=0.8.1 in ./venv/lib/python3.10/site-packages (from nbconvert->notebook->-r https://github.com/keyphrasification/hands-on-with-pke/raw/main/requirements.txt (line 1)) (0.8.4)\n",
      "Requirement already satisfied: bleach in ./venv/lib/python3.10/site-packages (from nbconvert->notebook->-r https://github.com/keyphrasification/hands-on-with-pke/raw/main/requirements.txt (line 1)) (4.1.0)\n",
      "Requirement already satisfied: testpath in ./venv/lib/python3.10/site-packages (from nbconvert->notebook->-r https://github.com/keyphrasification/hands-on-with-pke/raw/main/requirements.txt (line 1)) (0.6.0)\n",
      "Requirement already satisfied: nbclient<0.6.0,>=0.5.0 in ./venv/lib/python3.10/site-packages (from nbconvert->notebook->-r https://github.com/keyphrasification/hands-on-with-pke/raw/main/requirements.txt (line 1)) (0.5.11)\n",
      "Requirement already satisfied: defusedxml in ./venv/lib/python3.10/site-packages (from nbconvert->notebook->-r https://github.com/keyphrasification/hands-on-with-pke/raw/main/requirements.txt (line 1)) (0.7.1)\n",
      "Requirement already satisfied: jupyterlab-pygments in ./venv/lib/python3.10/site-packages (from nbconvert->notebook->-r https://github.com/keyphrasification/hands-on-with-pke/raw/main/requirements.txt (line 1)) (0.1.2)\n",
      "Requirement already satisfied: pandocfilters>=1.4.1 in ./venv/lib/python3.10/site-packages (from nbconvert->notebook->-r https://github.com/keyphrasification/hands-on-with-pke/raw/main/requirements.txt (line 1)) (1.5.0)\n",
      "Requirement already satisfied: regex>=2021.8.3 in ./venv/lib/python3.10/site-packages (from nltk->pke==2.0.0->-r https://github.com/keyphrasification/hands-on-with-pke/raw/main/requirements.txt (line 2)) (2022.3.2)\n",
      "Requirement already satisfied: pytz>=2020.1 in ./venv/lib/python3.10/site-packages (from pandas->datasets->-r https://github.com/keyphrasification/hands-on-with-pke/raw/main/requirements.txt (line 3)) (2021.3)\n",
      "Requirement already satisfied: scikit-learn in ./venv/lib/python3.10/site-packages (from sklearn->pke==2.0.0->-r https://github.com/keyphrasification/hands-on-with-pke/raw/main/requirements.txt (line 2)) (1.0.2)\n",
      "Requirement already satisfied: parso<0.9.0,>=0.8.0 in ./venv/lib/python3.10/site-packages (from jedi>=0.16->ipython>=4.0.0->ipywidgets->-r https://github.com/keyphrasification/hands-on-with-pke/raw/main/requirements.txt (line 4)) (0.8.3)\n",
      "Requirement already satisfied: pyrsistent!=0.17.0,!=0.17.1,!=0.17.2,>=0.14.0 in ./venv/lib/python3.10/site-packages (from jsonschema!=2.5.0,>=2.4->nbformat->notebook->-r https://github.com/keyphrasification/hands-on-with-pke/raw/main/requirements.txt (line 1)) (0.18.1)\n",
      "Requirement already satisfied: wcwidth in ./venv/lib/python3.10/site-packages (from prompt-toolkit!=3.0.0,!=3.0.1,<3.1.0,>=2.0.0->ipython>=4.0.0->ipywidgets->-r https://github.com/keyphrasification/hands-on-with-pke/raw/main/requirements.txt (line 4)) (0.2.5)\n",
      "Requirement already satisfied: cffi>=1.0.1 in ./venv/lib/python3.10/site-packages (from argon2-cffi-bindings->argon2-cffi->notebook->-r https://github.com/keyphrasification/hands-on-with-pke/raw/main/requirements.txt (line 1)) (1.15.0)\n",
      "Requirement already satisfied: webencodings in ./venv/lib/python3.10/site-packages (from bleach->nbconvert->notebook->-r https://github.com/keyphrasification/hands-on-with-pke/raw/main/requirements.txt (line 1)) (0.5.1)\n",
      "Requirement already satisfied: threadpoolctl>=2.0.0 in ./venv/lib/python3.10/site-packages (from scikit-learn->sklearn->pke==2.0.0->-r https://github.com/keyphrasification/hands-on-with-pke/raw/main/requirements.txt (line 2)) (3.1.0)\n",
      "Requirement already satisfied: executing in ./venv/lib/python3.10/site-packages (from stack-data->ipython>=4.0.0->ipywidgets->-r https://github.com/keyphrasification/hands-on-with-pke/raw/main/requirements.txt (line 4)) (0.8.3)\n",
      "Requirement already satisfied: pure-eval in ./venv/lib/python3.10/site-packages (from stack-data->ipython>=4.0.0->ipywidgets->-r https://github.com/keyphrasification/hands-on-with-pke/raw/main/requirements.txt (line 4)) (0.2.2)\n",
      "Requirement already satisfied: asttokens in ./venv/lib/python3.10/site-packages (from stack-data->ipython>=4.0.0->ipywidgets->-r https://github.com/keyphrasification/hands-on-with-pke/raw/main/requirements.txt (line 4)) (2.0.5)\n",
      "Requirement already satisfied: pycparser in ./venv/lib/python3.10/site-packages (from cffi>=1.0.1->argon2-cffi-bindings->argon2-cffi->notebook->-r https://github.com/keyphrasification/hands-on-with-pke/raw/main/requirements.txt (line 1)) (2.21)\n"
     ]
    }
   ],
   "source": [
    "!pip install -r https://github.com/keyphrasification/hands-on-with-pke/raw/main/requirements.txt"
   ]
  },
  {
   "cell_type": "markdown",
   "id": "7d7052f9",
   "metadata": {},
   "source": [
    "# Hands-on session with pke - part 3\n",
    "\n",
    "This notebook provides an end-to-end example of model benchmarking on Inspec, a commonly-used dataset for keyphrase extraction that contains bibliographic records (i.e. title/abstract from scientific papers)."
   ]
  },
  {
   "cell_type": "markdown",
   "id": "1c805385",
   "metadata": {},
   "source": [
    "## Preamble on keyphrase extraction datasets using 🤗 datasets\n",
    "\n",
    "For simplicity and ease of use, we rely on the `datasets` module from 🤗 huggingface to load and access sample documents from the inspec dataset. \n",
    "\n"
   ]
  },
  {
   "cell_type": "code",
   "execution_count": 2,
   "id": "54b0a073",
   "metadata": {},
   "outputs": [
    {
     "name": "stderr",
     "output_type": "stream",
     "text": [
      "Reusing dataset inspec (/Users/boudin-f/.cache/huggingface/datasets/boudinfl___inspec/all/1.0.1/f333b3e8c7190f09ecbc2eee2706f13dd7370a0f3d72bb15ceb6e34ee90a6aa7)\n"
     ]
    },
    {
     "data": {
      "application/vnd.jupyter.widget-view+json": {
       "model_id": "0b5427fe916b4441b76565f3c476905b",
       "version_major": 2,
       "version_minor": 0
      },
      "text/plain": [
       "  0%|          | 0/3 [00:00<?, ?it/s]"
      ]
     },
     "metadata": {},
     "output_type": "display_data"
    },
    {
     "name": "stdout",
     "output_type": "stream",
     "text": [
      "id: 2007\n",
      "title: The creation of a high-fidelity finite element mod...\n",
      "abstract: A detailed finite element model of the human kidne...\n",
      "gold-standard keyphrases: high-fidelity finite element model; kidney; trauma research; ...\n"
     ]
    }
   ],
   "source": [
    "from datasets import load_dataset\n",
    "\n",
    "# load the inspec dataset\n",
    "dataset = load_dataset('boudinfl/inspec', \"all\")\n",
    "\n",
    "# let's have a look at one sample document from the validation split\n",
    "sample = dataset[\"test\"][0]\n",
    "\n",
    "print(\"id: {}\".format(sample[\"id\"]))\n",
    "print(\"title: {}...\".format(sample[\"title\"][:50]))\n",
    "print(\"abstract: {}...\".format(sample[\"abstract\"][:50]))\n",
    "print(\"gold-standard keyphrases: {}; ...\".format(\"; \".join(sample[\"uncontr\"][:3])))"
   ]
  },
  {
   "cell_type": "markdown",
   "id": "052c92c7",
   "metadata": {},
   "source": [
    "## Benchmarking models"
   ]
  },
  {
   "cell_type": "markdown",
   "id": "6c7006d9",
   "metadata": {},
   "source": [
    "### step-1: let's start by preprocessing the dataset using spacy"
   ]
  },
  {
   "cell_type": "code",
   "execution_count": 3,
   "id": "e7794153",
   "metadata": {},
   "outputs": [
    {
     "data": {
      "application/vnd.jupyter.widget-view+json": {
       "model_id": "d7f8a5efec8d4d449b34872ae7579e2d",
       "version_major": 2,
       "version_minor": 0
      },
      "text/plain": [
       "  0%|          | 0/500 [00:00<?, ?it/s]"
      ]
     },
     "metadata": {},
     "output_type": "display_data"
    }
   ],
   "source": [
    "import re\n",
    "import spacy\n",
    "from tqdm.notebook import tqdm\n",
    "from spacy.tokenizer import _get_regex_pattern\n",
    "\n",
    "nlp = spacy.load(\"en_core_web_sm\")\n",
    "\n",
    "# Tokenization fix for in-word hyphens (e.g. 'non-linear' would be kept \n",
    "# as one token instead of default spacy behavior of 'non', '-', 'linear')\n",
    "re_token_match = _get_regex_pattern(nlp.Defaults.token_match)\n",
    "re_token_match = f\"({re_token_match}|\\w+-\\w+)\"\n",
    "nlp.tokenizer.token_match = re.compile(re_token_match).match\n",
    "\n",
    "# populates a docs list with spacy doc objects\n",
    "docs = []\n",
    "for sample in tqdm(dataset['test']):\n",
    "    docs.append(nlp(sample[\"title\"]+\". \"+sample[\"abstract\"]))"
   ]
  },
  {
   "cell_type": "markdown",
   "id": "e7788966",
   "metadata": {},
   "source": [
    "### step-2: run the desired models on the dataset and store extracted keyphrases"
   ]
  },
  {
   "cell_type": "code",
   "execution_count": 4,
   "id": "18a91a54",
   "metadata": {},
   "outputs": [
    {
     "data": {
      "application/vnd.jupyter.widget-view+json": {
       "model_id": "5c7d6d3eb6744fdb92fed19518b528e0",
       "version_major": 2,
       "version_minor": 0
      },
      "text/plain": [
       "  0%|          | 0/500 [00:00<?, ?it/s]"
      ]
     },
     "metadata": {},
     "output_type": "display_data"
    },
    {
     "data": {
      "application/vnd.jupyter.widget-view+json": {
       "model_id": "59d5d3d547504d949241738eefef2516",
       "version_major": 2,
       "version_minor": 0
      },
      "text/plain": [
       "  0%|          | 0/500 [00:00<?, ?it/s]"
      ]
     },
     "metadata": {},
     "output_type": "display_data"
    },
    {
     "data": {
      "application/vnd.jupyter.widget-view+json": {
       "model_id": "4be7a7885b774a919eba28898f62f6a7",
       "version_major": 2,
       "version_minor": 0
      },
      "text/plain": [
       "  0%|          | 0/500 [00:00<?, ?it/s]"
      ]
     },
     "metadata": {},
     "output_type": "display_data"
    },
    {
     "data": {
      "application/vnd.jupyter.widget-view+json": {
       "model_id": "5dcb10ed8af1492f8c5038e4d864f527",
       "version_major": 2,
       "version_minor": 0
      },
      "text/plain": [
       "  0%|          | 0/500 [00:00<?, ?it/s]"
      ]
     },
     "metadata": {},
     "output_type": "display_data"
    }
   ],
   "source": [
    "from pke.unsupervised import *\n",
    "\n",
    "outputs = {}\n",
    "for model in [FirstPhrases, TopicRank, PositionRank, MultipartiteRank]:\n",
    "    outputs[model.__name__] = []\n",
    "    \n",
    "    extractor = model()\n",
    "    for i, doc in enumerate(tqdm(docs)):\n",
    "        extractor.load_document(input=doc, language='en')\n",
    "        extractor.grammar_selection(grammar=\"NP: {<ADJ>*<NOUN|PROPN>+}\")\n",
    "        extractor.candidate_weighting()\n",
    "        outputs[model.__name__].append([u for u,v in extractor.get_n_best(n=5, stemming=True)])"
   ]
  },
  {
   "cell_type": "markdown",
   "id": "a8061c66",
   "metadata": {},
   "source": [
    "### step-3: evaluate the performance of each model"
   ]
  },
  {
   "cell_type": "code",
   "execution_count": 5,
   "id": "e6f96ea8",
   "metadata": {},
   "outputs": [
    {
     "data": {
      "application/vnd.jupyter.widget-view+json": {
       "model_id": "26d11b6644484da3a8dcedba023752fc",
       "version_major": 2,
       "version_minor": 0
      },
      "text/plain": [
       "  0%|          | 0/500 [00:00<?, ?it/s]"
      ]
     },
     "metadata": {},
     "output_type": "display_data"
    },
    {
     "name": "stdout",
     "output_type": "stream",
     "text": [
      "Model: FirstPhrases P@5: 0.336 R@5: 0.204 F@5: 0.239\n"
     ]
    },
    {
     "data": {
      "application/vnd.jupyter.widget-view+json": {
       "model_id": "902bfe1d9d0f42b08d28fbe23bd9901c",
       "version_major": 2,
       "version_minor": 0
      },
      "text/plain": [
       "  0%|          | 0/500 [00:00<?, ?it/s]"
      ]
     },
     "metadata": {},
     "output_type": "display_data"
    },
    {
     "name": "stdout",
     "output_type": "stream",
     "text": [
      "Model: TopicRank P@5: 0.345 R@5: 0.207 F@5: 0.243\n"
     ]
    },
    {
     "data": {
      "application/vnd.jupyter.widget-view+json": {
       "model_id": "85b956293f354180aec68044910466fd",
       "version_major": 2,
       "version_minor": 0
      },
      "text/plain": [
       "  0%|          | 0/500 [00:00<?, ?it/s]"
      ]
     },
     "metadata": {},
     "output_type": "display_data"
    },
    {
     "name": "stdout",
     "output_type": "stream",
     "text": [
      "Model: PositionRank P@5: 0.386 R@5: 0.239 F@5: 0.277\n"
     ]
    },
    {
     "data": {
      "application/vnd.jupyter.widget-view+json": {
       "model_id": "4953716d762b46a2bf2d40c498355068",
       "version_major": 2,
       "version_minor": 0
      },
      "text/plain": [
       "  0%|          | 0/500 [00:00<?, ?it/s]"
      ]
     },
     "metadata": {},
     "output_type": "display_data"
    },
    {
     "name": "stdout",
     "output_type": "stream",
     "text": [
      "Model: MultipartiteRank P@5: 0.354 R@5: 0.211 F@5: 0.249\n"
     ]
    }
   ],
   "source": [
    "import numpy as np\n",
    "\n",
    "def evaluate(top_N_keyphrases, references):\n",
    "    P = len(set(top_N_keyphrases) & set(references)) / len(top_N_keyphrases)\n",
    "    R = len(set(top_N_keyphrases) & set(references)) / len(references)\n",
    "    F = (2*P*R)/(P+R) if (P+R) > 0 else 0 \n",
    "    return (P, R, F)\n",
    "\n",
    "# loop through the models\n",
    "for model in outputs:\n",
    "    \n",
    "    # compute the P, R, F scores for the model\n",
    "    scores = []\n",
    "    for i, output in enumerate(tqdm(outputs[model])):\n",
    "        references = dataset['test'][i][\"uncontr_stems\"]\n",
    "        scores.append(evaluate(output, references))\n",
    "    \n",
    "    # compute the average scores\n",
    "    avg_scores = np.mean(scores, axis=0)\n",
    "    \n",
    "    # print out the performance of the model\n",
    "    print(\"Model: {} P@5: {:.3f} R@5: {:.3f} F@5: {:.3f}\".format(model, avg_scores[0], avg_scores[1], avg_scores[2]))"
   ]
  }
 ],
 "metadata": {
  "kernelspec": {
   "display_name": "Python 3 (ipykernel)",
   "language": "python",
   "name": "python3"
  },
  "language_info": {
   "codemirror_mode": {
    "name": "ipython",
    "version": 3
   },
   "file_extension": ".py",
   "mimetype": "text/x-python",
   "name": "python",
   "nbconvert_exporter": "python",
   "pygments_lexer": "ipython3",
   "version": "3.10.2"
  }
 },
 "nbformat": 4,
 "nbformat_minor": 5
}
