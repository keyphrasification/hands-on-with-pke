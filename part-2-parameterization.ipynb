{
 "cells": [
  {
   "cell_type": "code",
   "execution_count": 1,
   "id": "96f9ce3d",
   "metadata": {},
   "outputs": [
    {
     "name": "stdout",
     "output_type": "stream",
     "text": [
      "Collecting git+https://github.com/boudinfl/pke.git@v2.0\n",
      "  Cloning https://github.com/boudinfl/pke.git (to revision v2.0) to /private/var/folders/_s/dsym612j14gggkqchsd35clh0000gn/T/pip-req-build-_0nknvsr\n",
      "  Running command git clone --filter=blob:none --quiet https://github.com/boudinfl/pke.git /private/var/folders/_s/dsym612j14gggkqchsd35clh0000gn/T/pip-req-build-_0nknvsr\n",
      "  Running command git checkout -b v2.0 --track origin/v2.0\n",
      "  Switched to a new branch 'v2.0'\n",
      "  Branch 'v2.0' set up to track remote branch 'v2.0' from 'origin'.\n",
      "  Resolved https://github.com/boudinfl/pke.git to commit 43b9783f5397df3d1741feaadf0ff64f401ce19c\n",
      "  Preparing metadata (setup.py) ... \u001b[?25ldone\n",
      "\u001b[?25hCollecting en_core_web_sm@ https://github.com/explosion/spacy-models/releases/download/en_core_web_sm-3.2.0/en_core_web_sm-3.2.0.tar.gz\n",
      "  Using cached en_core_web_sm-3.2.0-py3-none-any.whl\n",
      "Requirement already satisfied: nltk in ./venv/lib/python3.10/site-packages (from pke==2.0.0) (3.7)\n",
      "Requirement already satisfied: networkx in ./venv/lib/python3.10/site-packages (from pke==2.0.0) (2.7.1)\n",
      "Requirement already satisfied: numpy in ./venv/lib/python3.10/site-packages (from pke==2.0.0) (1.22.2)\n",
      "Requirement already satisfied: scipy in ./venv/lib/python3.10/site-packages (from pke==2.0.0) (1.8.0)\n",
      "Requirement already satisfied: sklearn in ./venv/lib/python3.10/site-packages (from pke==2.0.0) (0.0)\n",
      "Requirement already satisfied: unidecode in ./venv/lib/python3.10/site-packages (from pke==2.0.0) (1.3.3)\n",
      "Requirement already satisfied: future in ./venv/lib/python3.10/site-packages (from pke==2.0.0) (0.18.2)\n",
      "Requirement already satisfied: joblib in ./venv/lib/python3.10/site-packages (from pke==2.0.0) (1.1.0)\n",
      "Requirement already satisfied: spacy in ./venv/lib/python3.10/site-packages (from pke==2.0.0) (3.2.3)\n",
      "Requirement already satisfied: spacy-loggers<2.0.0,>=1.0.0 in ./venv/lib/python3.10/site-packages (from spacy->pke==2.0.0) (1.0.1)\n",
      "Requirement already satisfied: requests<3.0.0,>=2.13.0 in ./venv/lib/python3.10/site-packages (from spacy->pke==2.0.0) (2.27.1)\n",
      "Requirement already satisfied: catalogue<2.1.0,>=2.0.6 in ./venv/lib/python3.10/site-packages (from spacy->pke==2.0.0) (2.0.6)\n",
      "Requirement already satisfied: cymem<2.1.0,>=2.0.2 in ./venv/lib/python3.10/site-packages (from spacy->pke==2.0.0) (2.0.6)\n",
      "Requirement already satisfied: pydantic!=1.8,!=1.8.1,<1.9.0,>=1.7.4 in ./venv/lib/python3.10/site-packages (from spacy->pke==2.0.0) (1.8.2)\n",
      "Requirement already satisfied: thinc<8.1.0,>=8.0.12 in ./venv/lib/python3.10/site-packages (from spacy->pke==2.0.0) (8.0.13)\n",
      "Requirement already satisfied: spacy-legacy<3.1.0,>=3.0.8 in ./venv/lib/python3.10/site-packages (from spacy->pke==2.0.0) (3.0.9)\n",
      "Requirement already satisfied: blis<0.8.0,>=0.4.0 in ./venv/lib/python3.10/site-packages (from spacy->pke==2.0.0) (0.7.6)\n",
      "Requirement already satisfied: tqdm<5.0.0,>=4.38.0 in ./venv/lib/python3.10/site-packages (from spacy->pke==2.0.0) (4.63.0)\n",
      "Requirement already satisfied: pathy>=0.3.5 in ./venv/lib/python3.10/site-packages (from spacy->pke==2.0.0) (0.6.1)\n",
      "Requirement already satisfied: preshed<3.1.0,>=3.0.2 in ./venv/lib/python3.10/site-packages (from spacy->pke==2.0.0) (3.0.6)\n",
      "Requirement already satisfied: srsly<3.0.0,>=2.4.1 in ./venv/lib/python3.10/site-packages (from spacy->pke==2.0.0) (2.4.2)\n",
      "Requirement already satisfied: typer<0.5.0,>=0.3.0 in ./venv/lib/python3.10/site-packages (from spacy->pke==2.0.0) (0.4.0)\n",
      "Requirement already satisfied: langcodes<4.0.0,>=3.2.0 in ./venv/lib/python3.10/site-packages (from spacy->pke==2.0.0) (3.3.0)\n",
      "Requirement already satisfied: murmurhash<1.1.0,>=0.28.0 in ./venv/lib/python3.10/site-packages (from spacy->pke==2.0.0) (1.0.6)\n",
      "Requirement already satisfied: setuptools in ./venv/lib/python3.10/site-packages (from spacy->pke==2.0.0) (60.9.3)\n",
      "Requirement already satisfied: jinja2 in ./venv/lib/python3.10/site-packages (from spacy->pke==2.0.0) (3.0.3)\n",
      "Requirement already satisfied: packaging>=20.0 in ./venv/lib/python3.10/site-packages (from spacy->pke==2.0.0) (21.3)\n",
      "Requirement already satisfied: wasabi<1.1.0,>=0.8.1 in ./venv/lib/python3.10/site-packages (from spacy->pke==2.0.0) (0.9.0)\n",
      "Requirement already satisfied: regex>=2021.8.3 in ./venv/lib/python3.10/site-packages (from nltk->pke==2.0.0) (2022.3.2)\n",
      "Requirement already satisfied: click in ./venv/lib/python3.10/site-packages (from nltk->pke==2.0.0) (8.0.4)\n",
      "Requirement already satisfied: scikit-learn in ./venv/lib/python3.10/site-packages (from sklearn->pke==2.0.0) (1.0.2)\n",
      "Requirement already satisfied: pyparsing!=3.0.5,>=2.0.2 in ./venv/lib/python3.10/site-packages (from packaging>=20.0->spacy->pke==2.0.0) (3.0.7)\n",
      "Requirement already satisfied: smart-open<6.0.0,>=5.0.0 in ./venv/lib/python3.10/site-packages (from pathy>=0.3.5->spacy->pke==2.0.0) (5.2.1)\n",
      "Requirement already satisfied: typing-extensions>=3.7.4.3 in ./venv/lib/python3.10/site-packages (from pydantic!=1.8,!=1.8.1,<1.9.0,>=1.7.4->spacy->pke==2.0.0) (4.1.1)\n",
      "Requirement already satisfied: urllib3<1.27,>=1.21.1 in ./venv/lib/python3.10/site-packages (from requests<3.0.0,>=2.13.0->spacy->pke==2.0.0) (1.26.8)\n",
      "Requirement already satisfied: certifi>=2017.4.17 in ./venv/lib/python3.10/site-packages (from requests<3.0.0,>=2.13.0->spacy->pke==2.0.0) (2021.10.8)\n",
      "Requirement already satisfied: idna<4,>=2.5 in ./venv/lib/python3.10/site-packages (from requests<3.0.0,>=2.13.0->spacy->pke==2.0.0) (3.3)\n",
      "Requirement already satisfied: charset-normalizer~=2.0.0 in ./venv/lib/python3.10/site-packages (from requests<3.0.0,>=2.13.0->spacy->pke==2.0.0) (2.0.12)\n",
      "Requirement already satisfied: MarkupSafe>=2.0 in ./venv/lib/python3.10/site-packages (from jinja2->spacy->pke==2.0.0) (2.1.0)\n",
      "Requirement already satisfied: threadpoolctl>=2.0.0 in ./venv/lib/python3.10/site-packages (from scikit-learn->sklearn->pke==2.0.0) (3.1.0)\n"
     ]
    }
   ],
   "source": [
    "!pip install git+https://github.com/boudinfl/pke.git\n",
    "!python -m spacy download en_core_web_sm"
   ]
  },
  {
   "cell_type": "markdown",
   "id": "b764ffc9",
   "metadata": {},
   "source": [
    "# Hands-on session with pke - part 2\n",
    "\n",
    "This notebook provides a series of examples on how to parameterize the keyphrase extraction models in `pke`.\n",
    "More specifically, we will see how to customize the identification of keyphrase candidates and how to use different models implemented in `pke`.\n",
    "\n",
    "As a reminder, `pke` provides a standardized API for extracting keyphrases from a document by typing the following 5 lines:\n",
    "\n",
    "```python\n",
    "import pke\n",
    "\n",
    "extractor = pke.unsupervised.TfIdf()        # initialize a keyphrase extraction model, here TFxIDF\n",
    "extractor.load_document(input='text')       # load the content of the document (str or spacy Doc)\n",
    "extractor.candidate_selection()             # identify keyphrase candidates\n",
    "extractor.candidate_weighting()             # weight keyphrase candidates\n",
    "keyphrases = extractor.get_n_best(n=5)      # select the 5-best candidates as keyphrases\n",
    "```"
   ]
  },
  {
   "cell_type": "markdown",
   "id": "2efd00c8",
   "metadata": {},
   "source": [
    "### Preamble - initializing a simple model and a sample document"
   ]
  },
  {
   "cell_type": "code",
   "execution_count": 2,
   "id": "44d9e91c",
   "metadata": {
    "collapsed": true
   },
   "outputs": [],
   "source": [
    "import pke\n",
    "\n",
    "# sample document (1895.abstr from the Inspec dataset)\n",
    "sample = \"\"\"An algorithm combining neural networks with fundamental parameters.\n",
    "An algorithm combining neural networks with the fundamental parameters equations (NNFP) is proposed for making\n",
    "corrections for non-linear matrix effects in x-ray fluorescence analysis. In the algorithm, neural networks were\n",
    "applied to relate the concentrations of components to both the measured intensities and the relative theoretical\n",
    "intensities calculated by the fundamental parameter equations. The NNFP algorithm is compared with the classical\n",
    "theoretical correction models, including the fundamental parameters approach, the Lachance-Traill model, a\n",
    "hyperbolic function model and the COLA algorithm. For an alloy system with 15 measured elements, in most cases,\n",
    "the prediction errors of the NNFP algorithm are lower than those of the fundamental parameters approach, the\n",
    "Lachance-Traill model, the hyperbolic function model and the COLA algorithm separately. If there are the serious\n",
    "matrix effects, such as matrix effects among Cr, Fe and Ni, the NNFP algorithm generally decreased predictive\n",
    "errors as compared with the classical models, except for the case of Cr by the fundamental parameters approach.\n",
    "The main reason why the NNFP algorithm has generally a better predictive ability than the classical theoretical\n",
    "correction models might be that neural networks can better calibrate the non-linear matrix effects in a complex\n",
    "multivariate system.\"\"\".replace(\"\\n\", \" \")\n",
    "\n",
    "# initialize a simple model that ranks candidates using their position\n",
    "extractor = pke.unsupervised.FirstPhrases()\n",
    "\n",
    "# load the document using the initialized model\n",
    "extractor.load_document(input=sample, language='en')"
   ]
  },
  {
   "cell_type": "markdown",
   "id": "606c9b2c",
   "metadata": {},
   "source": [
    "## Model parameterization - candidate selection\n",
    "\n",
    "Candidate selection is a crucial stage in keyphrase extraction as it determines the size of the search space (i.e. number of candidates to rank/weight) and the upper bound performance (i.e. maximum recall).\n",
    "Here, we will see how to configure the candidate selection method in `pke` to achieve the best compromise between search space and maximum performance.\n",
    "\n",
    "In order to compare candidate selection methods, we compute the maximum recall score against the gold-standard (human-assigned) keyphrases as\n",
    "\n",
    "$$max\\_recall = \\frac{| \\text{candidates} \\cap \\text{references}|}{|\\text{references}|}$$\n",
    "\n",
    "Candidate and reference keyphrases are stemmed (using `nltk`'s Porter stemmer) to reduce the number of mismatches."
   ]
  },
  {
   "cell_type": "code",
   "execution_count": 3,
   "id": "fb66d66d",
   "metadata": {
    "collapsed": true
   },
   "outputs": [],
   "source": [
    "# gold-standard keyphrases for the sample document (1895.abstr, keyphrases are in stemmed form)\n",
    "references = ['algorithm', 'neural network', 'fundament paramet', 'fundament paramet equat',\n",
    "              'nonlinear matrix effect', 'x-ray fluoresc analysi', 'intens', 'nnfp algorithm',\n",
    "              'theoret correct model', 'lachance-trail model', 'hyperbol function model',\n",
    "              'cola algorithm', 'alloy system', 'cr', 'fe', 'ni', 'complex multivari system']\n",
    "\n",
    "def max_recall(candidates, references):\n",
    "    return len(set(references) & set(candidates)) / len(set(references))"
   ]
  },
  {
   "cell_type": "markdown",
   "id": "814b3525",
   "metadata": {},
   "source": [
    "### Setting up a linguistic-based selection method"
   ]
  },
  {
   "cell_type": "code",
   "execution_count": 4,
   "id": "e00cf6be",
   "metadata": {},
   "outputs": [
    {
     "name": "stdout",
     "output_type": "stream",
     "text": [
      "32 keyphrase candidates were identified\n",
      "- Subsample of candidates: algorithm ; neural network ; fundament paramet ; fundament paramet equat ; nnfp\n",
      "- Maximum recall: 0.882\n",
      "- Missed reference keyphrases: {'nonlinear matrix effect', 'theoret correct model'}\n"
     ]
    }
   ],
   "source": [
    "grammar = r\"\"\"\n",
    "                NP:\n",
    "                    {<ADJ>*<NOUN|PROPN>+}\n",
    "            \"\"\"\n",
    "\n",
    "extractor.grammar_selection(grammar=grammar)\n",
    "\n",
    "# let's see how many candidates are identified\n",
    "print(\"{} keyphrase candidates were identified\".format(len(extractor.candidates)))\n",
    "\n",
    "# print out a sample\n",
    "candidates = [*extractor.candidates]\n",
    "print(\"- Subsample of candidates:\", ' ; '.join(candidates[:5]))\n",
    "\n",
    "# compute the maximum recall\n",
    "print(\"- Maximum recall: {:.3f}\".format(max_recall(candidates, references)))\n",
    "\n",
    "# identify missed reference keyphrases\n",
    "missed = set(references) - set(candidates)\n",
    "print(\"- Missed reference keyphrases: {}\".format(missed))"
   ]
  },
  {
   "cell_type": "markdown",
   "id": "e242bc76",
   "metadata": {},
   "source": [
    "### <span style=\"background:lightpink\">Exercice ✍️</span>\n",
    "\n",
    "try modifying/adding PoS patterns of the grammar to increase the maximum recall, for example by allowing predicative adjectives (e.g. `<ADJ>+`)."
   ]
  },
  {
   "cell_type": "markdown",
   "id": "c502c893",
   "metadata": {},
   "source": [
    "### Setting up a n-gram-based selection method"
   ]
  },
  {
   "cell_type": "code",
   "execution_count": 5,
   "id": "74271ab9",
   "metadata": {},
   "outputs": [
    {
     "name": "stdout",
     "output_type": "stream",
     "text": [
      "173 keyphrase candidates were identified\n",
      "- Subsample of candidates: algorithm ; algorithm combin ; algorithm combin neural ; combin ; combin neural\n",
      "- Maximum recall: 0.941\n",
      "- Missed reference keyphrases: {'nonlinear matrix effect'}\n"
     ]
    }
   ],
   "source": [
    "# here we use a simple n-gram selection for candidates\n",
    "extractor.ngram_selection(n=3)\n",
    "\n",
    "# filter out spurious candidates \n",
    "for i, candidate in enumerate(list(extractor.candidates.keys())):\n",
    "    \n",
    "    # get the candidate words \n",
    "    words = [w.lower() for w in extractor.candidates[candidate].surface_forms[0]]\n",
    "    \n",
    "    # remove candidates containing stopwords\n",
    "    if set(extractor.stoplist) & set(words):\n",
    "        del extractor.candidates[candidate]\n",
    "\n",
    "# let's see how many candidates are identified\n",
    "print(\"{} keyphrase candidates were identified\".format(len(extractor.candidates)))\n",
    "\n",
    "# print out a sample\n",
    "candidates = [*extractor.candidates]\n",
    "print(\"- Subsample of candidates:\", ' ; '.join(candidates[:5]))\n",
    "\n",
    "# compute the maximum recall\n",
    "print(\"- Maximum recall: {:.3f}\".format(max_recall(candidates, references)))\n",
    "\n",
    "# identify missed reference keyphrases\n",
    "missed = set(references) - set(candidates)\n",
    "print(\"- Missed reference keyphrases: {}\".format(missed))"
   ]
  },
  {
   "cell_type": "markdown",
   "id": "aa593ce7",
   "metadata": {},
   "source": [
    "### <span style=\"background:lightpink\">Exercice ✍️</span>\n",
    "\n",
    "try removing more spurious candidates to reduce the search space, for example by removing candidates containing punctuation marks as words."
   ]
  },
  {
   "cell_type": "markdown",
   "id": "e1a7b4fd",
   "metadata": {},
   "source": [
    "## Model parameterization - candidate weighting/ranking\n",
    "\n",
    "The keyphrase extraction model that we use in `pke` define how candidates are weighted. For example, in TopicRank, candidates are weighted using a graph-based ranking model whereas in YAKE, candidates are weighted using a combination of statistical features (e.g. position, frequency). Here, we will see how to use different models implemented in `pke`. For comparison purposes, we will use a unified candidate selection method based on the following PoS grammar:"
   ]
  },
  {
   "cell_type": "code",
   "execution_count": 6,
   "id": "7881fb7d",
   "metadata": {
    "collapsed": true
   },
   "outputs": [],
   "source": [
    "# the unified grammar for candidate selection\n",
    "grammar=\"NP: {<ADJ>*<NOUN|PROPN>+}\""
   ]
  },
  {
   "cell_type": "markdown",
   "id": "5edb12d9",
   "metadata": {},
   "source": [
    "Models are evaluated against the gold-standard keyphrases by computing the precision, recall and f-measure at the top-N extracted keyphases as:\n",
    "\n",
    "$$ P@N = \\frac{| \\text{top-N keyphrases} \\cap \\text{references}|}{|\\text{top-N keyphrases}|} $$\n",
    "\n",
    "$$ R@N = \\frac{| \\text{top-N keyphrases} \\cap \\text{references}|}{|\\text{references}|} $$\n",
    "\n",
    "$$ F_1@N = \\frac{2 \\times P@N \\cdot R@N }{P@N + R@N} $$"
   ]
  },
  {
   "cell_type": "code",
   "execution_count": 7,
   "id": "128de2d4",
   "metadata": {
    "collapsed": true
   },
   "outputs": [],
   "source": [
    "def evaluate(top_N_keyphrases, references):\n",
    "    P = len(set(top_N_keyphrases) & set(references)) / len(top_N_keyphrases)\n",
    "    R = len(set(top_N_keyphrases) & set(references)) / len(references)\n",
    "    F = (2*P*R)/(P+R) if (P+R) > 0 else 0 \n",
    "    return (P, R, F)"
   ]
  },
  {
   "cell_type": "markdown",
   "id": "5fe47114",
   "metadata": {},
   "source": [
    "### Baseline model: TopicRank"
   ]
  },
  {
   "cell_type": "code",
   "execution_count": 8,
   "id": "65925f64",
   "metadata": {},
   "outputs": [
    {
     "name": "stdout",
     "output_type": "stream",
     "text": [
      "top-5 keyphrases: fundament paramet; nnfp; algorithm; classic theoret correct model; non-linear matrix effect\n",
      "P@5: 0.400 R@5: 0.118 F@5: 0.182\n"
     ]
    }
   ],
   "source": [
    "extractor = pke.unsupervised.TopicRank()\n",
    "extractor.load_document(input=sample, language='en')\n",
    "extractor.grammar_selection(grammar=grammar)\n",
    "extractor.candidate_weighting()\n",
    "keyphrases = extractor.get_n_best(n=5, stemming=True)\n",
    "\n",
    "top5 = [candidate for candidate, weight in keyphrases]\n",
    "print(\"top-5 keyphrases:\", '; '.join(top5))\n",
    "\n",
    "# evaluate the model\n",
    "P, R, F = evaluate(top5, references)\n",
    "print(\"P@5: {:.3f} R@5: {:.3f} F@5: {:.3f}\".format(P, R, F))"
   ]
  },
  {
   "cell_type": "markdown",
   "id": "4e8428ef",
   "metadata": {},
   "source": [
    "### A strong baseline model: MultipartiteRank"
   ]
  },
  {
   "cell_type": "code",
   "execution_count": 9,
   "id": "a0cce756",
   "metadata": {},
   "outputs": [
    {
     "name": "stdout",
     "output_type": "stream",
     "text": [
      "top-5 keyphrases: fundament paramet; algorithm; neural network; nnfp; classic theoret correct model\n",
      "P@5: 0.600 R@5: 0.176 F@5: 0.273\n"
     ]
    }
   ],
   "source": [
    "extractor = pke.unsupervised.MultipartiteRank()\n",
    "extractor.load_document(input=sample, language='en')\n",
    "extractor.grammar_selection(grammar=grammar)\n",
    "extractor.candidate_weighting()\n",
    "keyphrases = extractor.get_n_best(n=5, stemming=True)\n",
    "\n",
    "top5 = [candidate for candidate, weight in keyphrases]\n",
    "print(\"top-5 keyphrases:\", '; '.join(top5))\n",
    "\n",
    "# evaluate the model\n",
    "P, R, F = evaluate(top5, references)\n",
    "print(\"P@5: {:.3f} R@5: {:.3f} F@5: {:.3f}\".format(P, R, F))"
   ]
  },
  {
   "cell_type": "markdown",
   "id": "3f25d04a",
   "metadata": {},
   "source": [
    "### <span style=\"background:lightpink\">Exercice ✍️</span>\n",
    "\n",
    "try using another model, for example among the other unsupervised models implemented in `pke`: `FirstPhrases`, `TextRank`, `TfIdf`, `YAKE` or a supervised model: `Kea`."
   ]
  }
 ],
 "metadata": {
  "kernelspec": {
   "display_name": "Python 3 (ipykernel)",
   "language": "python",
   "name": "python3"
  },
  "language_info": {
   "codemirror_mode": {
    "name": "ipython",
    "version": 3
   },
   "file_extension": ".py",
   "mimetype": "text/x-python",
   "name": "python",
   "nbconvert_exporter": "python",
   "pygments_lexer": "ipython3",
   "version": "3.10.2"
  }
 },
 "nbformat": 4,
 "nbformat_minor": 5
}
