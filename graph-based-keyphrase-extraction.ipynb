{
 "cells": [
  {
   "cell_type": "markdown",
   "id": "01dc345f",
   "metadata": {},
   "source": [
    "# Hands-on session with pke\n",
    "\n",
    "Example of graph-based keyphrase extraction using `pke` / TopicRank\n",
    "\n",
    "## Requirements\n",
    "\n",
    "pip install `pke` from Github:\n",
    "\n",
    "```\n",
    "pip install git+https://github.com/boudinfl/pke.git\n",
    "```\n",
    "\n",
    "install additional/external resources:\n",
    "\n",
    "```\n",
    "python -m nltk.downloader stopwords\n",
    "python -m nltk.downloader universal_tagset\n",
    "python -m spacy download en_core_web_sm # download the english model\n",
    "```\n",
    "\n",
    "pip install `matplotlib` for visualizing graphs in the notebook\n",
    "```\n",
    "pip install matplotlib\n",
    "```"
   ]
  },
  {
   "cell_type": "markdown",
   "id": "9548d957",
   "metadata": {},
   "source": [
    "### Let's start by importing `pke` and initializing a TopicRank model"
   ]
  },
  {
   "cell_type": "code",
   "execution_count": 105,
   "id": "bd595100",
   "metadata": {},
   "outputs": [],
   "source": [
    "import pke\n",
    "\n",
    "# initialize a TopicRank keyphrase extraction model\n",
    "extractor = pke.unsupervised.TopicRank()"
   ]
  },
  {
   "cell_type": "markdown",
   "id": "34407d80",
   "metadata": {},
   "source": [
    "### What we need now is a sample text document"
   ]
  },
  {
   "cell_type": "code",
   "execution_count": 106,
   "id": "4aa694d8",
   "metadata": {},
   "outputs": [],
   "source": [
    "# sample document (2040.abstr from the Hulth-2003 dataset)\n",
    "sample = \"\"\"Inverse problems for a mathematical model of ion exchange in a compressible ion exchanger.\n",
    "A mathematical model of ion exchange is considered, allowing for ion exchanger compression in the process\n",
    "of ion exchange. Two inverse problems areinvestigated for this model, unique solvability is proved, and\n",
    "numerical solution methods are proposed. The efficiency of the proposed methods is demonstrated by a\n",
    "numerical experiment.\"\"\"\n",
    "\n",
    "# normalize spacing\n",
    "sample = sample.replace(\"\\n\", \" \")"
   ]
  },
  {
   "cell_type": "markdown",
   "id": "51c65667",
   "metadata": {},
   "source": [
    "### Then we can load the sample document using the extractor"
   ]
  },
  {
   "cell_type": "code",
   "execution_count": 107,
   "id": "7e496d03",
   "metadata": {},
   "outputs": [
    {
     "name": "stdout",
     "output_type": "stream",
     "text": [
      "sentence 0:\n",
      " - words: Inverse problems for a mathematical ...\n",
      " - stems: invers problem for a mathemat ...\n",
      " - PoS: NOUN NOUN ADP DET ADJ ...\n",
      "sentence 1:\n",
      " - words: A mathematical model of ion ...\n",
      " - stems: a mathemat model of ion ...\n",
      " - PoS: DET ADJ NOUN ADP NOUN ...\n",
      "sentence 2:\n",
      " - words: Two inverse problems areinvestigated for ...\n",
      " - stems: two invers problem areinvestig for ...\n",
      " - PoS: NUM NOUN NOUN VERB ADP ...\n",
      "sentence 3:\n",
      " - words: The efficiency of the proposed ...\n",
      " - stems: the effici of the propos ...\n",
      " - PoS: DET NOUN ADP DET VERB ...\n",
      "\n"
     ]
    }
   ],
   "source": [
    "# load the document\n",
    "# text preprocessing is carried out using spacy\n",
    "extractor.load_document(input=sample, language='en')\n",
    "\n",
    "\n",
    "# let's have a look at it\n",
    "for i, sentence in enumerate(extractor.sentences):\n",
    "    print(\"sentence {}:\".format(i))\n",
    "    print(\" - words: {} ...\".format(' '.join(sentence.words[:5])))\n",
    "    print(\" - stems: {} ...\".format(' '.join(sentence.stems[:5])))\n",
    "    print(\" - PoS: {} ...\".format(' '.join(sentence.pos[:5])))\n",
    "\n",
    "print()\n"
   ]
  },
  {
   "cell_type": "markdown",
   "id": "5336b6e3",
   "metadata": {},
   "source": [
    "### Now is the time to identify the keyphrase candidates"
   ]
  },
  {
   "cell_type": "code",
   "execution_count": 108,
   "id": "409abfff",
   "metadata": {},
   "outputs": [
    {
     "name": "stdout",
     "output_type": "stream",
     "text": [
      "candidate 0: invers problem; Inverse problems\n",
      "candidate 1: mathemat model; mathematical model\n",
      "candidate 2: ion exchang; ion exchange\n",
      "candidate 3: compress ion exchang; compressible ion exchanger\n",
      "candidate 4: ion exchang compress; ion exchanger compression\n",
      "candidate 5: process; process\n",
      "candidate 6: model; model\n",
      "candidate 7: uniqu solvabl; unique solvability\n",
      "candidate 8: numer solut method; numerical solution methods\n",
      "candidate 9: effici; efficiency\n",
      "candidate 10: method; methods\n",
      "candidate 11: numer experi; numerical experiment\n"
     ]
    }
   ],
   "source": [
    "# identify the keyphrase candidates using TopicRank's default strategy\n",
    "# i.e. the longest sequences of nouns and adjectives `(Noun|Adj)*`\n",
    "extractor.candidate_selection()\n",
    "\n",
    "# let's have a look at it\n",
    "for i, candidate in enumerate(extractor.candidates):\n",
    "    # the candidate is in stemmed form, we can find the (first occurring)\n",
    "    # surface form using the candidates dictionary structure\n",
    "    surface_form = ' '.join(extractor.candidates[candidate].surface_forms[0])\n",
    "    print(\"candidate {}: {}; {}\".format(i, candidate, surface_form))\n",
    "\n"
   ]
  },
  {
   "cell_type": "markdown",
   "id": "27a854c9",
   "metadata": {},
   "source": [
    "### Now is the time to weight/rank the keyphrase candidates"
   ]
  },
  {
   "cell_type": "code",
   "execution_count": 109,
   "id": "4c95d843",
   "metadata": {},
   "outputs": [],
   "source": [
    "# candidate weighting, in the case of TopicRank, does candidate clustering, graph construction and compute\n",
    "# a random walk algorithm to rank nodes (topics)\n",
    "extractor.candidate_weighting()"
   ]
  },
  {
   "cell_type": "code",
   "execution_count": 118,
   "id": "d62b7d06",
   "metadata": {},
   "outputs": [
    {
     "name": "stdout",
     "output_type": "stream",
     "text": [
      "topic 0: method;numer solut method \n",
      "topic 1: numer experi \n",
      "topic 2: mathemat model;model \n",
      "topic 3: compress ion exchang;ion exchang;ion exchang compress \n",
      "topic 4: effici \n",
      "topic 5: invers problem \n",
      "topic 6: process \n",
      "topic 7: uniqu solvabl \n"
     ]
    }
   ],
   "source": [
    "# let's have a look at the topics\n",
    "for i, topic in enumerate(extractor.topics):\n",
    "    print(\"topic {}: {} \".format(i, ';'.join(topic)))"
   ]
  },
  {
   "cell_type": "code",
   "execution_count": 119,
   "id": "1d3d2931",
   "metadata": {},
   "outputs": [
    {
     "name": "stdout",
     "output_type": "stream",
     "text": [
      "{0: 'method;numer solut method', 1: 'numer experi', 2: 'mathemat model;model', 3: 'compress ion exchang;ion exchang;ion exchang compress', 4: 'effici', 5: 'invers problem', 6: 'process', 7: 'uniqu solvabl'}\n"
     ]
    },
    {
     "data": {
      "image/png": "[encoded data removed]",
      "text/plain": [
       "<Figure size 432x288 with 1 Axes>"
      ]
     },
     "metadata": {},
     "output_type": "display_data"
    }
   ],
   "source": [
    "# let have a look at the graph\n",
    "import networkx as nx\n",
    "import matplotlib.pyplot as plt\n",
    "%matplotlib inline\n",
    "\n",
    "labels = {i: ';'.join(topic) for i, topic in enumerate(extractor.topics)}\n",
    "print(labels)\n",
    "\n",
    "nx.draw_networkx(extractor.graph, with_labels=True, labels=labels)"
   ]
  },
  {
   "cell_type": "code",
   "execution_count": 122,
   "id": "3f3a265b",
   "metadata": {},
   "outputs": [
    {
     "name": "stdout",
     "output_type": "stream",
     "text": [
      "numer solut method: 0.11176908254856226\n",
      "numer experi: 0.05343470636992753\n",
      "mathemat model: 0.2099058556993993\n",
      "ion exchang: 0.25123152462546205\n",
      "effici: 0.06926399358923595\n",
      "invers problem: 0.1259964215178055\n",
      "process: 0.09128212732650305\n",
      "uniqu solvabl: 0.08711628832310421\n"
     ]
    }
   ],
   "source": [
    "# let's have a look at the weights/ranks\n",
    "# In TopicRank, weights are computed for each topic, and only one\n",
    "# candidate per topic (here the first occurring one) is kept\n",
    "for candidate, weight in extractor.weights.items():\n",
    "    print('{}: {}'.format(candidate, weight))\n"
   ]
  },
  {
   "cell_type": "markdown",
   "id": "63bec4d5",
   "metadata": {},
   "source": [
    "### Now is the time to get the N-best candidates"
   ]
  },
  {
   "cell_type": "code",
   "execution_count": 126,
   "id": "c36f70c0",
   "metadata": {},
   "outputs": [
    {
     "name": "stdout",
     "output_type": "stream",
     "text": [
      "rank 0: ion exchange (0.25123152462546205)\n",
      "rank 1: mathematical model (0.2099058556993993)\n",
      "rank 2: inverse problems (0.1259964215178055)\n",
      "rank 3: numerical solution methods (0.11176908254856226)\n",
      "rank 4: process (0.09128212732650305)\n"
     ]
    }
   ],
   "source": [
    "# N-best (here, 5) selection\n",
    "keyphrases = extractor.get_n_best(n=5, stemming=False)\n",
    "\n",
    "for i, (candidate, score) in enumerate(keyphrases):\n",
    "    print(\"rank {}: {} ({})\".format(i, candidate, score))"
   ]
  },
  {
   "cell_type": "code",
   "execution_count": null,
   "id": "b4ad1a46",
   "metadata": {},
   "outputs": [],
   "source": []
  }
 ],
 "metadata": {
  "kernelspec": {
   "display_name": "Python 3 (ipykernel)",
   "language": "python",
   "name": "python3"
  },
  "language_info": {
   "codemirror_mode": {
    "name": "ipython",
    "version": 3
   },
   "file_extension": ".py",
   "mimetype": "text/x-python",
   "name": "python",
   "nbconvert_exporter": "python",
   "pygments_lexer": "ipython3",
   "version": "3.9.9"
  }
 },
 "nbformat": 4,
 "nbformat_minor": 5
}
