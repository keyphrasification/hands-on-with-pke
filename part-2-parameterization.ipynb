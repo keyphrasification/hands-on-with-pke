{
 "cells": [
  {
   "cell_type": "markdown",
   "id": "b764ffc9",
   "metadata": {},
   "source": [
    "# Hands-on session with pke\n",
    "\n",
    "## Part 2 : model parameterization\n",
    "\n",
    "As we have seen, keyphrase extraction is commonly treated as a three-stage process involving:\n",
    " 1. identifying keyphrase candidates\n",
    " 2. weighting these candidates\n",
    " 3. selecting the N-best candidates as keyphrases\n",
    " \n",
    "Each of the above stages can be parameterized/modified in `pke` and we will see how below."
   ]
  },
  {
   "cell_type": "code",
   "execution_count": 4,
   "id": "dbc1f3af",
   "metadata": {},
   "outputs": [],
   "source": [
    "import pke\n",
    "\n",
    "# sample document (2040.abstr from the Hulth-2003 dataset)\n",
    "sample = \"\"\"Inverse problems for a mathematical model of ion exchange in a compressible ion exchanger.\n",
    "A mathematical model of ion exchange is considered, allowing for ion exchanger compression in the process\n",
    "of ion exchange. Two inverse problems are investigated for this model, unique solvability is proved, and\n",
    "numerical solution methods are proposed. The efficiency of the proposed methods is demonstrated by a\n",
    "numerical experiment.\"\"\"\n",
    "\n",
    "# normalize spacing (replace newlines with whitespaces)\n",
    "sample = sample.replace(\"\\n\", \" \")"
   ]
  },
  {
   "cell_type": "markdown",
   "id": "606c9b2c",
   "metadata": {},
   "source": [
    "### Stage-1 : candidate selection "
   ]
  },
  {
   "cell_type": "code",
   "execution_count": 5,
   "id": "89738e34",
   "metadata": {},
   "outputs": [],
   "source": [
    "# let us start with a TopicRank model\n",
    "extractor = pke.unsupervised.TopicRank()\n",
    "\n",
    "# load the document using the initialized model\n",
    "extractor.load_document(input=sample, language='en')\n",
    "\n",
    "# by default the candidate"
   ]
  },
  {
   "cell_type": "code",
   "execution_count": null,
   "id": "2bbdf69c",
   "metadata": {},
   "outputs": [],
   "source": []
  }
 ],
 "metadata": {
  "kernelspec": {
   "display_name": "Python 3 (ipykernel)",
   "language": "python",
   "name": "python3"
  },
  "language_info": {
   "codemirror_mode": {
    "name": "ipython",
    "version": 3
   },
   "file_extension": ".py",
   "mimetype": "text/x-python",
   "name": "python",
   "nbconvert_exporter": "python",
   "pygments_lexer": "ipython3",
   "version": "3.9.9"
  }
 },
 "nbformat": 4,
 "nbformat_minor": 5
}
